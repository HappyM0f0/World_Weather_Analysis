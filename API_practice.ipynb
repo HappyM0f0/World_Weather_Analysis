{
 "cells": [
  {
   "cell_type": "code",
   "execution_count": 151,
   "source": [
    "# Create a practice set of random latitude and longitude combinations.\r\n",
    "x = [25.12903645, 25.92017388, 26.62509167, -59.98969384, 37.30571269]\r\n",
    "y = [-67.59741259, 11.09532135, 74.84233102, -76.89176677, -61.13376282]\r\n",
    "coordinates = zip(x, y)"
   ],
   "outputs": [],
   "metadata": {}
  },
  {
   "cell_type": "code",
   "execution_count": 152,
   "source": [
    "# Use the citipy module to determine city based on latitude and longitude.\r\n",
    "from citipy import citipy"
   ],
   "outputs": [],
   "metadata": {}
  },
  {
   "cell_type": "code",
   "execution_count": 153,
   "source": [
    "# Use the tuple() function to display the latitude and longitude combinations.\r\n",
    "for coordinate in coordinates:\r\n",
    "    print(citipy.nearest_city(coordinate[0], coordinate[1]).city_name,citipy.nearest_city(coordinate[0], coordinate[1]).country_code)"
   ],
   "outputs": [
    {
     "output_type": "stream",
     "name": "stdout",
     "text": [
      "cockburn town tc\n",
      "gat ly\n",
      "parvatsar in\n",
      "punta arenas cl\n",
      "saint george bm\n"
     ]
    }
   ],
   "metadata": {}
  },
  {
   "cell_type": "code",
   "execution_count": 154,
   "source": [
    "# Import the requests library.\r\n",
    "import requests\r\n",
    "\r\n",
    "# Import the API key.\r\n",
    "from config import weather_api_key"
   ],
   "outputs": [],
   "metadata": {}
  },
  {
   "cell_type": "code",
   "execution_count": 155,
   "source": [
    "# Starting URL for Weather Map API Call.\r\n",
    "url = \"http://api.openweathermap.org/data/2.5/weather?units=Imperial&APPID=\" + weather_api_key\r\n",
    "# print(url)"
   ],
   "outputs": [],
   "metadata": {}
  },
  {
   "cell_type": "code",
   "execution_count": 156,
   "source": [
    "# Create an endpoint URL for a city.\r\n",
    "city_url = url + \"&q=\" + \"Austin\"\r\n",
    "# print(city_url)"
   ],
   "outputs": [],
   "metadata": {}
  },
  {
   "cell_type": "code",
   "execution_count": 157,
   "source": [
    "# Make a 'Get' request for the city weather.\r\n",
    "city_weather = requests.get(city_url)\r\n",
    "city_weather"
   ],
   "outputs": [
    {
     "output_type": "execute_result",
     "data": {
      "text/plain": [
       "<Response [200]>"
      ]
     },
     "metadata": {},
     "execution_count": 157
    }
   ],
   "metadata": {}
  },
  {
   "cell_type": "code",
   "execution_count": 158,
   "source": [
    "# Create an endpoint URL for a city.\r\n",
    "city_url = url + \"&q=\" + \"Bston\"\r\n",
    "city_weather = requests.get(city_url)\r\n",
    "city_weather"
   ],
   "outputs": [
    {
     "output_type": "execute_result",
     "data": {
      "text/plain": [
       "<Response [404]>"
      ]
     },
     "metadata": {},
     "execution_count": 158
    }
   ],
   "metadata": {}
  },
  {
   "cell_type": "code",
   "execution_count": 159,
   "source": [
    "# Create an endpoint URL for a city.\r\n",
    "city_url = url + \"&q=\" + \"Boston\"\r\n",
    "city_weather = requests.get(city_url)\r\n",
    "city_weather"
   ],
   "outputs": [
    {
     "output_type": "execute_result",
     "data": {
      "text/plain": [
       "<Response [200]>"
      ]
     },
     "metadata": {},
     "execution_count": 159
    }
   ],
   "metadata": {}
  },
  {
   "cell_type": "code",
   "execution_count": 160,
   "source": [
    "# Get the text of the 'Get' request.\r\n",
    "city_weather.text"
   ],
   "outputs": [
    {
     "output_type": "execute_result",
     "data": {
      "text/plain": [
       "'{\"coord\":{\"lon\":-71.0598,\"lat\":42.3584},\"weather\":[{\"id\":804,\"main\":\"Clouds\",\"description\":\"overcast clouds\",\"icon\":\"04d\"}],\"base\":\"stations\",\"main\":{\"temp\":75.51,\"feels_like\":76.33,\"temp_min\":70.95,\"temp_max\":78.3,\"pressure\":1022,\"humidity\":76},\"visibility\":10000,\"wind\":{\"speed\":5.99,\"deg\":225,\"gust\":14},\"clouds\":{\"all\":93},\"dt\":1632323929,\"sys\":{\"type\":2,\"id\":2013408,\"country\":\"US\",\"sunrise\":1632306709,\"sunset\":1632350519},\"timezone\":-14400,\"id\":4930956,\"name\":\"Boston\",\"cod\":200}'"
      ]
     },
     "metadata": {},
     "execution_count": 160
    }
   ],
   "metadata": {}
  },
  {
   "cell_type": "code",
   "execution_count": 161,
   "source": [
    "# Get the JSON text of the 'Get' request.\r\n",
    "city_weather.json()"
   ],
   "outputs": [
    {
     "output_type": "execute_result",
     "data": {
      "text/plain": [
       "{'coord': {'lon': -71.0598, 'lat': 42.3584},\n",
       " 'weather': [{'id': 804,\n",
       "   'main': 'Clouds',\n",
       "   'description': 'overcast clouds',\n",
       "   'icon': '04d'}],\n",
       " 'base': 'stations',\n",
       " 'main': {'temp': 75.51,\n",
       "  'feels_like': 76.33,\n",
       "  'temp_min': 70.95,\n",
       "  'temp_max': 78.3,\n",
       "  'pressure': 1022,\n",
       "  'humidity': 76},\n",
       " 'visibility': 10000,\n",
       " 'wind': {'speed': 5.99, 'deg': 225, 'gust': 14},\n",
       " 'clouds': {'all': 93},\n",
       " 'dt': 1632323929,\n",
       " 'sys': {'type': 2,\n",
       "  'id': 2013408,\n",
       "  'country': 'US',\n",
       "  'sunrise': 1632306709,\n",
       "  'sunset': 1632350519},\n",
       " 'timezone': -14400,\n",
       " 'id': 4930956,\n",
       " 'name': 'Boston',\n",
       " 'cod': 200}"
      ]
     },
     "metadata": {},
     "execution_count": 161
    }
   ],
   "metadata": {}
  },
  {
   "cell_type": "code",
   "execution_count": 162,
   "source": [
    "# Create an endpoint URL for a city.\r\n",
    "city_url = url + \"&q=\" + \"Boston\"\r\n",
    "city_weather = requests.get(city_url)\r\n",
    "if city_weather.status_code == 200:\r\n",
    "    print(f\"City Weather found.\")\r\n",
    "else:\r\n",
    "    print(f\"City weather not found.\")"
   ],
   "outputs": [
    {
     "output_type": "stream",
     "name": "stdout",
     "text": [
      "City Weather found.\n"
     ]
    }
   ],
   "metadata": {}
  },
  {
   "cell_type": "code",
   "execution_count": 163,
   "source": [
    "# Create an endpoint URL for a city.\r\n",
    "city_url = url + \"&q=\" + \"Bston\"\r\n",
    "city_weather = requests.get(city_url)\r\n",
    "if city_weather.status_code == 200:\r\n",
    "    print(f\"City Weather found.\")\r\n",
    "else:\r\n",
    "    print(f\"City weather not found.\")"
   ],
   "outputs": [
    {
     "output_type": "stream",
     "name": "stdout",
     "text": [
      "City weather not found.\n"
     ]
    }
   ],
   "metadata": {}
  },
  {
   "cell_type": "code",
   "execution_count": 164,
   "source": [
    "# Create an endpoint URL for a city.\r\n",
    "city_url = url + \"&q=\" + \"Boston\"\r\n",
    "city_weather = requests.get(city_url)\r\n",
    "# city_weather.json().keys()\r\n",
    "city_weather.json()"
   ],
   "outputs": [
    {
     "output_type": "execute_result",
     "data": {
      "text/plain": [
       "{'coord': {'lon': -71.0598, 'lat': 42.3584},\n",
       " 'weather': [{'id': 804,\n",
       "   'main': 'Clouds',\n",
       "   'description': 'overcast clouds',\n",
       "   'icon': '04d'}],\n",
       " 'base': 'stations',\n",
       " 'main': {'temp': 75.51,\n",
       "  'feels_like': 76.33,\n",
       "  'temp_min': 70.95,\n",
       "  'temp_max': 78.3,\n",
       "  'pressure': 1022,\n",
       "  'humidity': 76},\n",
       " 'visibility': 10000,\n",
       " 'wind': {'speed': 5.99, 'deg': 225, 'gust': 14},\n",
       " 'clouds': {'all': 93},\n",
       " 'dt': 1632323929,\n",
       " 'sys': {'type': 2,\n",
       "  'id': 2013408,\n",
       "  'country': 'US',\n",
       "  'sunrise': 1632306709,\n",
       "  'sunset': 1632350519},\n",
       " 'timezone': -14400,\n",
       " 'id': 4930956,\n",
       " 'name': 'Boston',\n",
       " 'cod': 200}"
      ]
     },
     "metadata": {},
     "execution_count": 164
    }
   ],
   "metadata": {}
  },
  {
   "cell_type": "code",
   "execution_count": 165,
   "source": [
    "# Get the JSON data.\r\n",
    "boston_data = city_weather.json()"
   ],
   "outputs": [],
   "metadata": {}
  },
  {
   "cell_type": "code",
   "execution_count": 166,
   "source": [
    "lat = boston_data[\"coord\"][\"lat\"]\r\n",
    "lng = boston_data[\"coord\"][\"lon\"]\r\n",
    "max_temp = boston_data[\"main\"][\"temp_max\"]\r\n",
    "humidity = boston_data[\"main\"][\"humidity\"]\r\n",
    "clouds = boston_data[\"clouds\"][\"all\"]\r\n",
    "wind = boston_data[\"wind\"][\"speed\"]\r\n",
    "print(lat, lng, max_temp, humidity, clouds, wind)"
   ],
   "outputs": [
    {
     "output_type": "stream",
     "name": "stdout",
     "text": [
      "42.3584 -71.0598 78.3 76 93 5.99\n"
     ]
    }
   ],
   "metadata": {}
  },
  {
   "cell_type": "code",
   "execution_count": 167,
   "source": [
    "# Import the datetime module from the datetime library.\r\n",
    "from datetime import datetime\r\n",
    "# Get the date from the JSON file.\r\n",
    "date = boston_data[\"dt\"]\r\n",
    "# Convert the UTC date to a date format with year, month, day, hours, minutes, and seconds.\r\n",
    "# datetime.utcfromtimestamp(date)\r\n",
    "datetime.utcfromtimestamp(date).strftime('%Y-%m-%d %H:%M:%S')"
   ],
   "outputs": [
    {
     "output_type": "execute_result",
     "data": {
      "text/plain": [
       "'2021-09-22 15:18:49'"
      ]
     },
     "metadata": {},
     "execution_count": 167
    }
   ],
   "metadata": {}
  },
  {
   "cell_type": "code",
   "execution_count": 168,
   "source": [
    "# Import the time module.\r\n",
    "import time\r\n",
    "# Get today's date in seconds.\r\n",
    "today = time.time()\r\n",
    "today"
   ],
   "outputs": [
    {
     "output_type": "execute_result",
     "data": {
      "text/plain": [
       "1632324202.8627467"
      ]
     },
     "metadata": {},
     "execution_count": 168
    }
   ],
   "metadata": {}
  },
  {
   "cell_type": "code",
   "execution_count": 171,
   "source": [
    "today = time.strftime(\"%x\")\r\n",
    "# today = time.strftime(\"%Y-%m-%d %H:%M:%S\")\r\n",
    "today"
   ],
   "outputs": [
    {
     "output_type": "execute_result",
     "data": {
      "text/plain": [
       "'09/22/21'"
      ]
     },
     "metadata": {},
     "execution_count": 171
    }
   ],
   "metadata": {}
  }
 ],
 "metadata": {
  "interpreter": {
   "hash": "b4e8a4af2d3f0b87d3d0d70f470854acd560af62de8c50d17624842ae8a5c452"
  },
  "kernelspec": {
   "name": "python3",
   "display_name": "Python 3.7.10 64-bit ('PythonData': conda)"
  },
  "language_info": {
   "codemirror_mode": {
    "name": "ipython",
    "version": 3
   },
   "file_extension": ".py",
   "mimetype": "text/x-python",
   "name": "python",
   "nbconvert_exporter": "python",
   "pygments_lexer": "ipython3",
   "version": "3.7.10"
  }
 },
 "nbformat": 4,
 "nbformat_minor": 5
}