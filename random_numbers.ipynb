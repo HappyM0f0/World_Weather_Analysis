{
 "cells": [
  {
   "cell_type": "code",
   "execution_count": 1,
   "source": [
    "import random\r\n",
    "random.randint(-90, 90)"
   ],
   "outputs": [
    {
     "output_type": "execute_result",
     "data": {
      "text/plain": [
       "23"
      ]
     },
     "metadata": {},
     "execution_count": 1
    }
   ],
   "metadata": {}
  },
  {
   "cell_type": "code",
   "execution_count": 2,
   "source": [
    "random.random()"
   ],
   "outputs": [
    {
     "output_type": "execute_result",
     "data": {
      "text/plain": [
       "0.4106193477616654"
      ]
     },
     "metadata": {},
     "execution_count": 2
    }
   ],
   "metadata": {}
  },
  {
   "cell_type": "code",
   "execution_count": 4,
   "source": [
    "random_number = random.randint(-90,89) + random.random()\r\n",
    "random_number"
   ],
   "outputs": [
    {
     "output_type": "execute_result",
     "data": {
      "text/plain": [
       "30.753323442294846"
      ]
     },
     "metadata": {},
     "execution_count": 4
    }
   ],
   "metadata": {}
  },
  {
   "cell_type": "code",
   "execution_count": 5,
   "source": [
    "x = 1\r\n",
    "latitudes = []\r\n",
    "while x < 11:\r\n",
    "    random_lat = random.randint(-90, 89) + random.random()\r\n",
    "    latitudes.append(random_lat)\r\n",
    "    x += 1"
   ],
   "outputs": [],
   "metadata": {}
  },
  {
   "cell_type": "code",
   "execution_count": 6,
   "source": [
    "random.randrange(-90, 90, step=1)"
   ],
   "outputs": [
    {
     "output_type": "execute_result",
     "data": {
      "text/plain": [
       "72"
      ]
     },
     "metadata": {},
     "execution_count": 6
    }
   ],
   "metadata": {}
  },
  {
   "cell_type": "code",
   "execution_count": 7,
   "source": [
    "random.randrange(-90, 90, step=3)"
   ],
   "outputs": [
    {
     "output_type": "execute_result",
     "data": {
      "text/plain": [
       "-39"
      ]
     },
     "metadata": {},
     "execution_count": 7
    }
   ],
   "metadata": {}
  },
  {
   "cell_type": "code",
   "execution_count": 8,
   "source": [
    "random.uniform(-90, 90)"
   ],
   "outputs": [
    {
     "output_type": "execute_result",
     "data": {
      "text/plain": [
       "16.333419811540423"
      ]
     },
     "metadata": {},
     "execution_count": 8
    }
   ],
   "metadata": {}
  },
  {
   "cell_type": "code",
   "execution_count": 9,
   "source": [
    "# Import the NumPy module.\r\n",
    "import numpy as np"
   ],
   "outputs": [],
   "metadata": {}
  },
  {
   "cell_type": "code",
   "execution_count": 10,
   "source": [
    "np.random.uniform(-90.000, 90.000)"
   ],
   "outputs": [
    {
     "output_type": "execute_result",
     "data": {
      "text/plain": [
       "-3.3101509550976402"
      ]
     },
     "metadata": {},
     "execution_count": 10
    }
   ],
   "metadata": {}
  },
  {
   "cell_type": "code",
   "execution_count": 11,
   "source": [
    "np.random.uniform(-90.000, 90.000, size=50)"
   ],
   "outputs": [
    {
     "output_type": "execute_result",
     "data": {
      "text/plain": [
       "array([ -4.00440188, -18.64723255,  20.65740286, -40.83505528,\n",
       "        37.88282124, -75.97311139,  72.48895492, -45.14229955,\n",
       "       -34.45082296,  -9.61314357, -85.86512933,  34.94407311,\n",
       "        24.15125041,  19.91142279,  56.17282433, -25.93405673,\n",
       "       -39.48924101, -83.49525655,  31.15761426,  23.95434685,\n",
       "        50.76364679,  24.7549368 ,   5.26390956,  49.7134432 ,\n",
       "       -68.90118762,  47.70018443, -65.89657736,  73.99565211,\n",
       "       -81.76185886,  34.73924724,  81.17800528, -52.54494453,\n",
       "       -17.72940767,  65.65797282, -67.01893737,  51.82776705,\n",
       "       -41.91340734, -67.21404097, -87.42214061, -37.4658629 ,\n",
       "       -50.00805302, -68.13269872, -84.38059552, -10.80903571,\n",
       "       -45.84288461, -71.22930166, -49.70438478,  81.12025225,\n",
       "        89.0053634 ,  -6.47805584])"
      ]
     },
     "metadata": {},
     "execution_count": 11
    }
   ],
   "metadata": {}
  },
  {
   "cell_type": "code",
   "execution_count": 12,
   "source": [
    "# Import timeit.\r\n",
    "import timeit"
   ],
   "outputs": [],
   "metadata": {}
  },
  {
   "cell_type": "code",
   "execution_count": 13,
   "source": [
    "%timeit np.random.uniform(-90.000, 90.000, size=1500)"
   ],
   "outputs": [
    {
     "output_type": "stream",
     "name": "stdout",
     "text": [
      "12.2 µs ± 32.1 ns per loop (mean ± std. dev. of 7 runs, 100000 loops each)\n"
     ]
    }
   ],
   "metadata": {}
  },
  {
   "cell_type": "code",
   "execution_count": 86,
   "source": [
    "def latitudes(size):\r\n",
    "    latitudes = []\r\n",
    "    x = 0\r\n",
    "    while x < (size):\r\n",
    "        random_lat = random.randint(-90, 90) + random.random()\r\n",
    "        latitudes.append(random_lat)\r\n",
    "        x += 1\r\n",
    "    return latitudes\r\n",
    "# Call the function with 1500.\r\n",
    "# %timeit latitudes(1500)\r\n",
    "print(latitudes(10))"
   ],
   "outputs": [
    {
     "output_type": "stream",
     "name": "stdout",
     "text": [
      "[-6.486011954072554, 16.335139190282913, -25.881270751224772, -9.334214731114505, 69.49751527787599, 11.65611395267674, -9.644667958170146, 24.502678227719663, 54.40538004551478, 80.05212980216932]\n"
     ]
    }
   ],
   "metadata": {}
  },
  {
   "cell_type": "code",
   "execution_count": 107,
   "source": [
    "# refactor the previous code for loop\r\n",
    "def latitudes1(size):\r\n",
    "    latitudes1 = []\r\n",
    "    for i in range(size):\r\n",
    "        latitudes1.append(random.randint(-90, 90) + random.random())\r\n",
    "    # print(latitudes1)\r\n",
    "# a code that will generate a random list of 20\r\n",
    "# rand_list = [random.randint(-500, 500) for _ in range(20)] \r\n",
    "# Call the function with 1500.\r\n",
    "%timeit latitudes1(1500)\r\n",
    "# latitudes1(10)"
   ],
   "outputs": [
    {
     "output_type": "stream",
     "name": "stdout",
     "text": [
      "1.57 ms ± 7.54 µs per loop (mean ± std. dev. of 7 runs, 1000 loops each)\n"
     ]
    }
   ],
   "metadata": {}
  },
  {
   "cell_type": "code",
   "execution_count": 94,
   "source": [
    "rand_list = [random.randint(-500, 500)\r\n",
    "    for _ in range(20)]\r\n",
    "print(rand_list)"
   ],
   "outputs": [
    {
     "output_type": "stream",
     "name": "stdout",
     "text": [
      "[352, 426, 399, 365, 25, -226, 20, 294, -286, -321, -383, -337, -181, 153, -39, -297, -250, 260, 401, 148]\n"
     ]
    }
   ],
   "metadata": {}
  },
  {
   "cell_type": "code",
   "execution_count": 101,
   "source": [
    "lst=[]\r\n",
    "for i in range(20):\r\n",
    "\r\n",
    "    lst.append (random.randint(-500, 500))\r\n",
    "\r\n",
    "print (lst)"
   ],
   "outputs": [
    {
     "output_type": "stream",
     "name": "stdout",
     "text": [
      "[435, -150, -54, 478, -199, -133, -67, 158, 358, -212, 12, 171, -375, -409, -399, -275, 389, -200, -349, 114]\n"
     ]
    }
   ],
   "metadata": {}
  }
 ],
 "metadata": {
  "kernelspec": {
   "name": "python3",
   "display_name": "Python 3.7.10 64-bit ('PythonData': conda)"
  },
  "language_info": {
   "codemirror_mode": {
    "name": "ipython",
    "version": 3
   },
   "file_extension": ".py",
   "mimetype": "text/x-python",
   "name": "python",
   "nbconvert_exporter": "python",
   "pygments_lexer": "ipython3",
   "version": "3.7.10"
  },
  "interpreter": {
   "hash": "b4e8a4af2d3f0b87d3d0d70f470854acd560af62de8c50d17624842ae8a5c452"
  }
 },
 "nbformat": 4,
 "nbformat_minor": 5
}