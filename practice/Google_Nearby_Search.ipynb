{
 "cells": [
  {
   "cell_type": "code",
   "execution_count": 7,
   "source": [
    "# Dependencies and Setup\r\n",
    "import requests\r\n",
    "import gmaps\r\n",
    "# import json\r\n",
    "\r\n",
    "# Import API key\r\n",
    "from config import g_key"
   ],
   "outputs": [],
   "metadata": {}
  },
  {
   "cell_type": "code",
   "execution_count": null,
   "source": [
    "# Set the parameters to search for a hotel in Paris.\r\n",
    "params = {\r\n",
    "    \"radius\": 5000,\r\n",
    "    \"types\": \"lodging\",\r\n",
    "    \"key\": g_key,\r\n",
    "    \"location\": \"48.8566, 2.3522\"}\r\n",
    "# Use base URL to search for hotels in Paris.\r\n",
    "base_url = \"https://maps.googleapis.com/maps/api/place/nearbysearch/json\"\r\n",
    "# Make request and get the JSON data from the search.\r\n",
    "hotels = requests.get(base_url, params=params).json()\r\n",
    "\r\n",
    "hotels"
   ],
   "outputs": [],
   "metadata": {}
  },
  {
   "cell_type": "code",
   "execution_count": 9,
   "source": [
    "hotels[\"results\"][0][\"name\"]"
   ],
   "outputs": [
    {
     "output_type": "execute_result",
     "data": {
      "text/plain": [
       "'Hôtel Duo'"
      ]
     },
     "metadata": {},
     "execution_count": 9
    }
   ],
   "metadata": {}
  }
 ],
 "metadata": {
  "language_info": {
   "name": "python",
   "version": "3.7.10",
   "mimetype": "text/x-python",
   "codemirror_mode": {
    "name": "ipython",
    "version": 3
   },
   "pygments_lexer": "ipython3",
   "nbconvert_exporter": "python",
   "file_extension": ".py"
  },
  "kernelspec": {
   "name": "python3",
   "display_name": "Python 3.7.10 64-bit ('PythonData': conda)"
  },
  "interpreter": {
   "hash": "b4e8a4af2d3f0b87d3d0d70f470854acd560af62de8c50d17624842ae8a5c452"
  }
 },
 "nbformat": 4,
 "nbformat_minor": 5
}